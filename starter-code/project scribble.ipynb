{
 "cells": [
  {
   "cell_type": "code",
   "execution_count": 1,
   "metadata": {
    "collapsed": true
   },
   "outputs": [],
   "source": [
    "file = '/Users/russellsasaki/Desktop/DSI/dsi_repo/DSI_SM_3/projects/project-01/assets/sat_scores.csv'\n",
    "with open(file,'r') as f:\n",
    "    lines = f.readlines()"
   ]
  },
  {
   "cell_type": "code",
   "execution_count": 2,
   "metadata": {
    "collapsed": false
   },
   "outputs": [
    {
     "data": {
      "text/plain": [
       "['State,Rate,Verbal,Math\\n',\n",
       " 'CT,82,509,510\\n',\n",
       " 'NJ,81,499,513\\n',\n",
       " 'MA,79,511,515\\n',\n",
       " 'NY,77,495,505\\n',\n",
       " 'NH,72,520,516\\n',\n",
       " 'RI,71,501,499\\n',\n",
       " 'PA,71,500,499\\n',\n",
       " 'VT,69,511,506\\n',\n",
       " 'ME,69,506,500\\n',\n",
       " 'VA,68,510,501\\n',\n",
       " 'DE,67,501,499\\n',\n",
       " 'MD,65,508,510\\n',\n",
       " 'NC,65,493,499\\n',\n",
       " 'GA,63,491,489\\n',\n",
       " 'IN,60,499,501\\n',\n",
       " 'SC,57,486,488\\n',\n",
       " 'DC,56,482,474\\n',\n",
       " 'OR,55,526,526\\n',\n",
       " 'FL,54,498,499\\n',\n",
       " 'WA,53,527,527\\n',\n",
       " 'TX,53,493,499\\n',\n",
       " 'HI,52,485,515\\n',\n",
       " 'AK,51,514,510\\n',\n",
       " 'CA,51,498,517\\n',\n",
       " 'AZ,34,523,525\\n',\n",
       " 'NV,33,509,515\\n',\n",
       " 'CO,31,539,542\\n',\n",
       " 'OH,26,534,439\\n',\n",
       " 'MT,23,539,539\\n',\n",
       " 'WV,18,527,512\\n',\n",
       " 'ID,17,543,542\\n',\n",
       " 'TN,13,562,553\\n',\n",
       " 'NM,13,551,542\\n',\n",
       " 'IL,12,576,589\\n',\n",
       " 'KY,12,550,550\\n',\n",
       " 'WY,11,547,545\\n',\n",
       " 'MI,11,561,572\\n',\n",
       " 'MN,9,580,589\\n',\n",
       " 'KS,9,577,580\\n',\n",
       " 'AL,9,559,554\\n',\n",
       " 'NE,8,562,568\\n',\n",
       " 'OK,8,567,561\\n',\n",
       " 'MO,8,577,577\\n',\n",
       " 'LA,7,564,562\\n',\n",
       " 'WI,6,584,596\\n',\n",
       " 'AR,6,562,550\\n',\n",
       " 'UT,5,575,570\\n',\n",
       " 'IA,5,593,603\\n',\n",
       " 'SD,4,577,582\\n',\n",
       " 'ND,4,592,599\\n',\n",
       " 'MS,4,566,551\\n',\n",
       " 'All,45,506,514\\n']"
      ]
     },
     "execution_count": 2,
     "metadata": {},
     "output_type": "execute_result"
    }
   ],
   "source": [
    "lines"
   ]
  },
  {
   "cell_type": "code",
   "execution_count": null,
   "metadata": {
    "collapsed": true
   },
   "outputs": [],
   "source": []
  }
 ],
 "metadata": {
  "anaconda-cloud": {},
  "kernelspec": {
   "display_name": "Python [conda root]",
   "language": "python",
   "name": "conda-root-py"
  },
  "language_info": {
   "codemirror_mode": {
    "name": "ipython",
    "version": 2
   },
   "file_extension": ".py",
   "mimetype": "text/x-python",
   "name": "python",
   "nbconvert_exporter": "python",
   "pygments_lexer": "ipython2",
   "version": "2.7.12"
  }
 },
 "nbformat": 4,
 "nbformat_minor": 1
}
